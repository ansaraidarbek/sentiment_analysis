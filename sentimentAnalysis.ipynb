{
 "cells": [
  {
   "cell_type": "markdown",
   "metadata": {},
   "source": [
    "<h1> Sentiment analysis</h1>\n",
    "Task: analyze the results of different tools for sentiment analysis<br><br>\n",
    "<strong>Here are the papers I used:</strong><br>\n",
    "    <p style=\"padding-left:5em\">KZhang, Xiang, Junbo Zhao, and Yann LeCun. \"Character-level convolutional networks for text \n",
    "classification.\" Advances in neural information processing systems 28 (2015).</p>\n",
    "    <p style=\"padding-left:5em\">Gatti, L., Guerini, M., & Turchi, M. (2015). SentiWords: Deriving a high precision and high \n",
    "coverage lexicon for sentiment analysis. IEEE Transactions on Affective Computing, 7(4), 409-\n",
    "421.\n",
    "</p>"
   ]
  },
  {
   "cell_type": "markdown",
   "metadata": {},
   "source": [
    "<h2>Yelp dataset</h2>\n",
    "    The dataset contains 1000 entries with two columns -> text, weight  <br>\n",
    "    <hr>\n",
    "    <p style=\"background-color: rgb(255, 127, 0);color:black;font-weight:bold\">Text column consist of strings representing different comments  <span style=\"position:absolute;right:10em\">string</span> <br></p>\n",
    "    <p style=\"background-color: rgb(0, 255, 127);color:black;font-weight:bold\">Weight collumn consist of two classes 0 for 1-2 stars and 1 for 3-4 stars,<br> where 0 mean Text is neative and 1 means Text is positive<span style=\"position:absolute;right:10em\">number</span> <br></p>"
   ]
  },
  {
   "cell_type": "markdown",
   "metadata": {},
   "source": [
    "<h2>Add libraries</h2>"
   ]
  },
  {
   "cell_type": "code",
   "execution_count": 13,
   "metadata": {},
   "outputs": [],
   "source": [
    "import pandas as pd\n",
    "import numpy as np\n",
    "import matplotlib.pyplot as plt\n",
    "from sklearn.metrics import (confusion_matrix, ConfusionMatrixDisplay, \n",
    "                             classification_report, f1_score)\n",
    "import re\n",
    "import stanza\n",
    "from tqdm import tqdm"
   ]
  },
  {
   "cell_type": "code",
   "execution_count": 2,
   "metadata": {},
   "outputs": [
    {
     "data": {
      "text/html": [
       "<div>\n",
       "<style scoped>\n",
       "    .dataframe tbody tr th:only-of-type {\n",
       "        vertical-align: middle;\n",
       "    }\n",
       "\n",
       "    .dataframe tbody tr th {\n",
       "        vertical-align: top;\n",
       "    }\n",
       "\n",
       "    .dataframe thead th {\n",
       "        text-align: right;\n",
       "    }\n",
       "</style>\n",
       "<table border=\"1\" class=\"dataframe\">\n",
       "  <thead>\n",
       "    <tr style=\"text-align: right;\">\n",
       "      <th></th>\n",
       "      <th>Text</th>\n",
       "      <th>Weight</th>\n",
       "    </tr>\n",
       "  </thead>\n",
       "  <tbody>\n",
       "    <tr>\n",
       "      <th>0</th>\n",
       "      <td>Wow... Loved this place.</td>\n",
       "      <td>1</td>\n",
       "    </tr>\n",
       "    <tr>\n",
       "      <th>1</th>\n",
       "      <td>Crust is not good.</td>\n",
       "      <td>0</td>\n",
       "    </tr>\n",
       "    <tr>\n",
       "      <th>2</th>\n",
       "      <td>Not tasty and the texture was just nasty.</td>\n",
       "      <td>0</td>\n",
       "    </tr>\n",
       "    <tr>\n",
       "      <th>3</th>\n",
       "      <td>Stopped by during the late May bank holiday of...</td>\n",
       "      <td>1</td>\n",
       "    </tr>\n",
       "    <tr>\n",
       "      <th>4</th>\n",
       "      <td>The selection on the menu was great and so wer...</td>\n",
       "      <td>1</td>\n",
       "    </tr>\n",
       "  </tbody>\n",
       "</table>\n",
       "</div>"
      ],
      "text/plain": [
       "                                                Text  Weight\n",
       "0                           Wow... Loved this place.       1\n",
       "1                                 Crust is not good.       0\n",
       "2          Not tasty and the texture was just nasty.       0\n",
       "3  Stopped by during the late May bank holiday of...       1\n",
       "4  The selection on the menu was great and so wer...       1"
      ]
     },
     "execution_count": 2,
     "metadata": {},
     "output_type": "execute_result"
    }
   ],
   "source": [
    "yelp_data = pd.read_csv('yelp_labelled.txt', sep='\\t', header=None)\n",
    "yelp_data.columns = ['Text', 'Weight']\n",
    "yelp_data.head()"
   ]
  },
  {
   "cell_type": "markdown",
   "metadata": {},
   "source": [
    "<h2>Process SentiWords data</h2>"
   ]
  },
  {
   "cell_type": "code",
   "execution_count": 3,
   "metadata": {},
   "outputs": [
    {
     "data": {
      "text/html": [
       "<div>\n",
       "<style scoped>\n",
       "    .dataframe tbody tr th:only-of-type {\n",
       "        vertical-align: middle;\n",
       "    }\n",
       "\n",
       "    .dataframe tbody tr th {\n",
       "        vertical-align: top;\n",
       "    }\n",
       "\n",
       "    .dataframe thead th {\n",
       "        text-align: right;\n",
       "    }\n",
       "</style>\n",
       "<table border=\"1\" class=\"dataframe\">\n",
       "  <thead>\n",
       "    <tr style=\"text-align: right;\">\n",
       "      <th></th>\n",
       "      <th>Lemma</th>\n",
       "      <th>PoS</th>\n",
       "      <th>Priority</th>\n",
       "    </tr>\n",
       "  </thead>\n",
       "  <tbody>\n",
       "    <tr>\n",
       "      <th>0</th>\n",
       "      <td>.22_caliber</td>\n",
       "      <td>a</td>\n",
       "      <td>0.00000</td>\n",
       "    </tr>\n",
       "    <tr>\n",
       "      <th>1</th>\n",
       "      <td>.22_calibre</td>\n",
       "      <td>a</td>\n",
       "      <td>0.00000</td>\n",
       "    </tr>\n",
       "    <tr>\n",
       "      <th>2</th>\n",
       "      <td>.22-caliber</td>\n",
       "      <td>a</td>\n",
       "      <td>0.00000</td>\n",
       "    </tr>\n",
       "    <tr>\n",
       "      <th>3</th>\n",
       "      <td>.22-calibre</td>\n",
       "      <td>a</td>\n",
       "      <td>0.00000</td>\n",
       "    </tr>\n",
       "    <tr>\n",
       "      <th>4</th>\n",
       "      <td>.22</td>\n",
       "      <td>n</td>\n",
       "      <td>0.12208</td>\n",
       "    </tr>\n",
       "  </tbody>\n",
       "</table>\n",
       "</div>"
      ],
      "text/plain": [
       "         Lemma PoS  Priority\n",
       "0  .22_caliber   a   0.00000\n",
       "1  .22_calibre   a   0.00000\n",
       "2  .22-caliber   a   0.00000\n",
       "3  .22-calibre   a   0.00000\n",
       "4          .22   n   0.12208"
      ]
     },
     "execution_count": 3,
     "metadata": {},
     "output_type": "execute_result"
    }
   ],
   "source": [
    "senti_words = []\n",
    "\n",
    "with open('SentiWords_1.1.txt') as f:\n",
    "    lines = f.readlines()\n",
    "\n",
    "for line in lines:\n",
    "    if(line[0] != '#'):\n",
    "        line = line.replace('\\n', \"\")\n",
    "        senti_words.append(line)\n",
    "senti_words = [re.split('#|\\t', row) for row in senti_words]\n",
    "senti_words = pd.DataFrame(senti_words, columns =['Lemma', \"PoS\", \"Priority\"])\n",
    "senti_words[\"Priority\"] = senti_words[\"Priority\"].astype(float)\n",
    "senti_words.head()"
   ]
  },
  {
   "cell_type": "markdown",
   "metadata": {},
   "source": [
    "<h2>Explanaition</h2>\n",
    "\n",
    "<p>I have read the txt file, then I pushed the elements that started with any other character than \"#\"</p>\n",
    "<p>Then I have used replace method to replace new line separators with empty string, and appended everything into array</p>\n",
    "<p>In my next step, I have used regex split to separate each element of array into array of three elements</p>\n",
    "<p>As ultimate step I have converted the list into dataframe with lemma, pos, priority columns</p>\n",
    "<p>Finally I changed the type of priority to be a float column</p>"
   ]
  },
  {
   "cell_type": "markdown",
   "metadata": {},
   "source": [
    "<h2>Create my classifier</h2>"
   ]
  },
  {
   "cell_type": "code",
   "execution_count": 27,
   "metadata": {},
   "outputs": [],
   "source": [
    "class myClassifier():\n",
    "\n",
    "    def __init__(self):\n",
    "        self.stanzaSupp = stanza.Pipeline(lang='en', processors='tokenize,pos,lemma', download_method='reuse_resources')\n",
    "        self.myDict = senti_words.set_index(['Lemma', 'PoS'])['Priority'].to_dict()\n",
    "\n",
    "    def stanzaToSenti(self, tag):\n",
    "        if tag == 'ADJ':\n",
    "            return 'a'\n",
    "        if tag == 'VERB':\n",
    "            return 'v'\n",
    "        if tag == 'ADV':\n",
    "            return 'r'\n",
    "        return 'n'\n",
    "    \n",
    "    def sentiScore(self,lemma, pos):\n",
    "        if (lemma, pos) in self.myDict:\n",
    "            return self.myDict[(lemma, pos)]\n",
    "        return 0\n",
    "        \n",
    "    def predict(self, doc):                \n",
    "        doc = self.stanzaSupp(doc)\n",
    "        total_score = 0\n",
    "        for sentence in doc.sentences:\n",
    "            for word in sentence.words:\n",
    "                lemma = word.lemma\n",
    "                pos = self.stanzaToSenti(word.pos)  \n",
    "                total_score += self.sentiScore(lemma, pos)\n",
    "        return 1 if total_score>=0 else 0\n"
   ]
  },
  {
   "cell_type": "code",
   "execution_count": 28,
   "metadata": {},
   "outputs": [
    {
     "name": "stderr",
     "output_type": "stream",
     "text": [
      "2023-09-21 21:35:21 INFO: Loading these models for language: en (English):\n",
      "=================================\n",
      "| Processor | Package           |\n",
      "---------------------------------\n",
      "| tokenize  | combined          |\n",
      "| pos       | combined_charlm   |\n",
      "| lemma     | combined_nocharlm |\n",
      "=================================\n",
      "\n",
      "2023-09-21 21:35:21 INFO: Using device: cpu\n",
      "2023-09-21 21:35:21 INFO: Loading: tokenize\n",
      "2023-09-21 21:35:21 INFO: Loading: pos\n",
      "2023-09-21 21:35:21 INFO: Loading: lemma\n",
      "2023-09-21 21:35:21 INFO: Done loading processors!\n"
     ]
    }
   ],
   "source": [
    "first_model = myClassifier()"
   ]
  },
  {
   "cell_type": "markdown",
   "metadata": {},
   "source": [
    "<h2>Evaluate model</h2>"
   ]
  },
  {
   "cell_type": "code",
   "execution_count": 29,
   "metadata": {},
   "outputs": [],
   "source": [
    "predictions = []\n",
    "for ix in yelp_data.index:\n",
    "    res = first_model.predict(yelp_data['Text'][ix])\n",
    "    predictions.append(res)"
   ]
  },
  {
   "cell_type": "code",
   "execution_count": 31,
   "metadata": {},
   "outputs": [
    {
     "data": {
      "image/png": "[encoded data removed]",
      "text/plain": [
       "<Figure size 432x288 with 2 Axes>"
      ]
     },
     "metadata": {
      "needs_background": "light"
     },
     "output_type": "display_data"
    },
    {
     "name": "stdout",
     "output_type": "stream",
     "text": [
      "F1 score for positive class: 0.7122\n",
      "F1 score for negative class: 0.3856\n"
     ]
    }
   ],
   "source": [
    "labels = yelp_data['Weight'].values\n",
    "\n",
    "disp = ConfusionMatrixDisplay(confusion_matrix(labels, predictions))\n",
    "disp.plot()\n",
    "plt.show()\n",
    "\n",
    "print(f'F1 score for positive class: {f1_score(labels, predictions, pos_label=1):.4}')\n",
    "print(f'F1 score for negative class: {f1_score(labels, predictions, pos_label=0):.4}')"
   ]
  },
  {
   "cell_type": "markdown",
   "metadata": {},
   "source": [
    "<h2>Stanza sentiment analysis</h2>"
   ]
  },
  {
   "cell_type": "code",
   "execution_count": 11,
   "metadata": {},
   "outputs": [
    {
     "name": "stderr",
     "output_type": "stream",
     "text": [
      "2023-09-21 21:24:04 INFO: Checking for updates to resources.json in case models have been updated.  Note: this behavior can be turned off with download_method=None or download_method=DownloadMethod.REUSE_RESOURCES\n"
     ]
    },
    {
     "data": {
      "application/vnd.jupyter.widget-view+json": {
       "model_id": "f4c54f6053cc453e8178bc107f853bf5",
       "version_major": 2,
       "version_minor": 0
      },
      "text/plain": [
       "Downloading https://raw.githubusercontent.com/stanfordnlp/stanza-resources/main/resources_1.5.1.json:   0%|   …"
      ]
     },
     "metadata": {},
     "output_type": "display_data"
    },
    {
     "data": {
      "application/vnd.jupyter.widget-view+json": {
       "model_id": "0323ecfa9cbc4d669eee79fad20e5fb8",
       "version_major": 2,
       "version_minor": 0
      },
      "text/plain": [
       "Downloading https://huggingface.co/stanfordnlp/stanza-en/resolve/v1.5.1/models/sentiment/sstplus.pt:   0%|    …"
      ]
     },
     "metadata": {},
     "output_type": "display_data"
    },
    {
     "name": "stderr",
     "output_type": "stream",
     "text": [
      "2023-09-21 21:24:13 INFO: Loading these models for language: en (English):\n",
      "========================\n",
      "| Processor | Package  |\n",
      "------------------------\n",
      "| tokenize  | combined |\n",
      "| sentiment | sstplus  |\n",
      "========================\n",
      "\n",
      "2023-09-21 21:24:13 INFO: Using device: cpu\n",
      "2023-09-21 21:24:13 INFO: Loading: tokenize\n",
      "2023-09-21 21:24:13 INFO: Loading: sentiment\n",
      "2023-09-21 21:24:13 INFO: Done loading processors!\n"
     ]
    }
   ],
   "source": [
    "stanza_model = stanza.Pipeline(lang='en', processors='tokenize,sentiment')"
   ]
  },
  {
   "cell_type": "code",
   "execution_count": 25,
   "metadata": {},
   "outputs": [
    {
     "name": "stderr",
     "output_type": "stream",
     "text": [
      "100%|██████████| 1000/1000 [02:23<00:00,  6.98it/s]\n"
     ]
    }
   ],
   "source": [
    "stanza_predictions = []\n",
    "\n",
    "for i, row in tqdm(yelp_data.iterrows(), total=len(yelp_data)):\n",
    "    doc = stanza_model(row['Text'])\n",
    "    sentence = doc.sentences[0]\n",
    "    stanza_predictions.append(max(0, sentence.sentiment-sentence.sentiment**0))\n",
    "    \n",
    "# stanza_predictions = np.array(stanza_predictions)"
   ]
  },
  {
   "cell_type": "code",
   "execution_count": 26,
   "metadata": {},
   "outputs": [
    {
     "data": {
      "image/png": "[encoded data removed]",
      "text/plain": [
       "<Figure size 432x288 with 2 Axes>"
      ]
     },
     "metadata": {
      "needs_background": "light"
     },
     "output_type": "display_data"
    },
    {
     "name": "stdout",
     "output_type": "stream",
     "text": [
      "F1 score for positive class: 0.9693\n",
      "F1 score for negative class: 0.9707\n"
     ]
    }
   ],
   "source": [
    "disp = ConfusionMatrixDisplay(confusion_matrix(labels, stanza_predictions))\n",
    "disp.plot()\n",
    "plt.show()\n",
    "\n",
    "print(f'F1 score for positive class: {f1_score(labels, stanza_predictions, pos_label=1):.4}')\n",
    "print(f'F1 score for negative class: {f1_score(labels, stanza_predictions, pos_label=0):.4}')"
   ]
  },
  {
   "cell_type": "markdown",
   "metadata": {},
   "source": [
    "<h2>Conclusion</h2>\n",
    "\n",
    "<p>My classifier performs really bad due to misclassification of negative weights as positive weights. The reason I bilieve is the words that were not present in sentiWordDataset. <br>\n",
    "    On the other hand stanza have showed a really impressive accuracy for detecting the sentiments of sentences.</p>"
   ]
  }
 ],
 "metadata": {
  "kernelspec": {
   "display_name": "Python 3",
   "language": "python",
   "name": "python3"
  },
  "language_info": {
   "codemirror_mode": {
    "name": "ipython",
    "version": 3
   },
   "file_extension": ".py",
   "mimetype": "text/x-python",
   "name": "python",
   "nbconvert_exporter": "python",
   "pygments_lexer": "ipython3",
   "version": "3.9.6"
  },
  "orig_nbformat": 4
 },
 "nbformat": 4,
 "nbformat_minor": 2
}
